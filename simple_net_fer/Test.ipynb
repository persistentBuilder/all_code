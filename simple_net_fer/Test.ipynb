{
 "cells": [
  {
   "cell_type": "code",
   "execution_count": 1,
   "metadata": {},
   "outputs": [],
   "source": [
    "from dataset import AffectNetDataset"
   ]
  },
  {
   "cell_type": "code",
   "execution_count": 2,
   "metadata": {},
   "outputs": [
    {
     "name": "stdout",
     "output_type": "stream",
     "text": [
      "0\n"
     ]
    },
    {
     "ename": "FileNotFoundError",
     "evalue": "[Errno 2] File b'/ssd_scratch/cvit/aryaman.g/affectnet/validation.csv' does not exist: b'/ssd_scratch/cvit/aryaman.g/affectnet/validation.csv'",
     "output_type": "error",
     "traceback": [
      "\u001b[0;31m---------------------------------------------------------------------------\u001b[0m",
      "\u001b[0;31mFileNotFoundError\u001b[0m                         Traceback (most recent call last)",
      "\u001b[0;32m<ipython-input-2-5668167dd879>\u001b[0m in \u001b[0;36m<module>\u001b[0;34m\u001b[0m\n\u001b[1;32m      1\u001b[0m \u001b[0;32mimport\u001b[0m \u001b[0mtime\u001b[0m\u001b[0;34m\u001b[0m\u001b[0m\n\u001b[1;32m      2\u001b[0m \u001b[0mt\u001b[0m \u001b[0;34m=\u001b[0m \u001b[0mtime\u001b[0m\u001b[0;34m.\u001b[0m\u001b[0mtime\u001b[0m\u001b[0;34m(\u001b[0m\u001b[0;34m)\u001b[0m\u001b[0;34m\u001b[0m\u001b[0m\n\u001b[0;32m----> 3\u001b[0;31m \u001b[0mtrain_loader\u001b[0m \u001b[0;34m=\u001b[0m \u001b[0mAffectNetDataset\u001b[0m\u001b[0;34m(\u001b[0m\u001b[0mpath\u001b[0m\u001b[0;34m=\u001b[0m\u001b[0;34m'validation.csv'\u001b[0m\u001b[0;34m)\u001b[0m\u001b[0;34m\u001b[0m\u001b[0m\n\u001b[0m\u001b[1;32m      4\u001b[0m \u001b[0mprint\u001b[0m\u001b[0;34m(\u001b[0m\u001b[0mtime\u001b[0m\u001b[0;34m.\u001b[0m\u001b[0mtime\u001b[0m\u001b[0;34m(\u001b[0m\u001b[0;34m)\u001b[0m\u001b[0;34m-\u001b[0m\u001b[0mt\u001b[0m\u001b[0;34m)\u001b[0m\u001b[0;34m\u001b[0m\u001b[0m\n",
      "\u001b[0;32m~/research/all_code/simple_net_fer/dataset.py\u001b[0m in \u001b[0;36m__init__\u001b[0;34m(self, path, train_flag, base_path, transform, include_neutral, use_heatmap)\u001b[0m\n\u001b[1;32m    210\u001b[0m \u001b[0;34m\u001b[0m\u001b[0m\n\u001b[1;32m    211\u001b[0m \u001b[0;34m\u001b[0m\u001b[0m\n\u001b[0;32m--> 212\u001b[0;31m         \u001b[0mdata\u001b[0m \u001b[0;34m=\u001b[0m \u001b[0mpd\u001b[0m\u001b[0;34m.\u001b[0m\u001b[0mread_csv\u001b[0m\u001b[0;34m(\u001b[0m\u001b[0mself\u001b[0m\u001b[0;34m.\u001b[0m\u001b[0mbase_path\u001b[0m \u001b[0;34m+\u001b[0m \u001b[0;34m'/'\u001b[0m \u001b[0;34m+\u001b[0m \u001b[0mpath\u001b[0m\u001b[0;34m)\u001b[0m\u001b[0;34m\u001b[0m\u001b[0m\n\u001b[0m\u001b[1;32m    213\u001b[0m         \u001b[0mdata\u001b[0m\u001b[0;34m[\u001b[0m\u001b[0;34m'subDirectory_filePath'\u001b[0m\u001b[0;34m]\u001b[0m \u001b[0;34m=\u001b[0m \u001b[0mdata\u001b[0m\u001b[0;34m[\u001b[0m\u001b[0;34m'subDirectory_filePath'\u001b[0m\u001b[0;34m]\u001b[0m\u001b[0;34m.\u001b[0m\u001b[0mapply\u001b[0m\u001b[0;34m(\u001b[0m\u001b[0;32mlambda\u001b[0m \u001b[0mx\u001b[0m\u001b[0;34m:\u001b[0m \u001b[0mx\u001b[0m\u001b[0;34m.\u001b[0m\u001b[0msplit\u001b[0m\u001b[0;34m(\u001b[0m\u001b[0;34m\"/\"\u001b[0m\u001b[0;34m)\u001b[0m\u001b[0;34m[\u001b[0m\u001b[0;34m-\u001b[0m\u001b[0;36m1\u001b[0m\u001b[0;34m]\u001b[0m\u001b[0;34m)\u001b[0m\u001b[0;34m\u001b[0m\u001b[0m\n\u001b[1;32m    214\u001b[0m         \u001b[0mdata\u001b[0m \u001b[0;34m=\u001b[0m \u001b[0mdata\u001b[0m\u001b[0;34m.\u001b[0m\u001b[0msort_values\u001b[0m\u001b[0;34m(\u001b[0m\u001b[0mby\u001b[0m\u001b[0;34m=\u001b[0m\u001b[0;34m[\u001b[0m\u001b[0;34m'subDirectory_filePath'\u001b[0m\u001b[0;34m]\u001b[0m\u001b[0;34m)\u001b[0m\u001b[0;34m\u001b[0m\u001b[0m\n",
      "\u001b[0;32m~/research/deep_learning_venv/lib/python3.7/site-packages/pandas/io/parsers.py\u001b[0m in \u001b[0;36mparser_f\u001b[0;34m(filepath_or_buffer, sep, delimiter, header, names, index_col, usecols, squeeze, prefix, mangle_dupe_cols, dtype, engine, converters, true_values, false_values, skipinitialspace, skiprows, skipfooter, nrows, na_values, keep_default_na, na_filter, verbose, skip_blank_lines, parse_dates, infer_datetime_format, keep_date_col, date_parser, dayfirst, cache_dates, iterator, chunksize, compression, thousands, decimal, lineterminator, quotechar, quoting, doublequote, escapechar, comment, encoding, dialect, error_bad_lines, warn_bad_lines, delim_whitespace, low_memory, memory_map, float_precision)\u001b[0m\n\u001b[1;32m    683\u001b[0m         )\n\u001b[1;32m    684\u001b[0m \u001b[0;34m\u001b[0m\u001b[0m\n\u001b[0;32m--> 685\u001b[0;31m         \u001b[0;32mreturn\u001b[0m \u001b[0m_read\u001b[0m\u001b[0;34m(\u001b[0m\u001b[0mfilepath_or_buffer\u001b[0m\u001b[0;34m,\u001b[0m \u001b[0mkwds\u001b[0m\u001b[0;34m)\u001b[0m\u001b[0;34m\u001b[0m\u001b[0m\n\u001b[0m\u001b[1;32m    686\u001b[0m \u001b[0;34m\u001b[0m\u001b[0m\n\u001b[1;32m    687\u001b[0m     \u001b[0mparser_f\u001b[0m\u001b[0;34m.\u001b[0m\u001b[0m__name__\u001b[0m \u001b[0;34m=\u001b[0m \u001b[0mname\u001b[0m\u001b[0;34m\u001b[0m\u001b[0m\n",
      "\u001b[0;32m~/research/deep_learning_venv/lib/python3.7/site-packages/pandas/io/parsers.py\u001b[0m in \u001b[0;36m_read\u001b[0;34m(filepath_or_buffer, kwds)\u001b[0m\n\u001b[1;32m    455\u001b[0m \u001b[0;34m\u001b[0m\u001b[0m\n\u001b[1;32m    456\u001b[0m     \u001b[0;31m# Create the parser.\u001b[0m\u001b[0;34m\u001b[0m\u001b[0;34m\u001b[0m\u001b[0m\n\u001b[0;32m--> 457\u001b[0;31m     \u001b[0mparser\u001b[0m \u001b[0;34m=\u001b[0m \u001b[0mTextFileReader\u001b[0m\u001b[0;34m(\u001b[0m\u001b[0mfp_or_buf\u001b[0m\u001b[0;34m,\u001b[0m \u001b[0;34m**\u001b[0m\u001b[0mkwds\u001b[0m\u001b[0;34m)\u001b[0m\u001b[0;34m\u001b[0m\u001b[0m\n\u001b[0m\u001b[1;32m    458\u001b[0m \u001b[0;34m\u001b[0m\u001b[0m\n\u001b[1;32m    459\u001b[0m     \u001b[0;32mif\u001b[0m \u001b[0mchunksize\u001b[0m \u001b[0;32mor\u001b[0m \u001b[0miterator\u001b[0m\u001b[0;34m:\u001b[0m\u001b[0;34m\u001b[0m\u001b[0m\n",
      "\u001b[0;32m~/research/deep_learning_venv/lib/python3.7/site-packages/pandas/io/parsers.py\u001b[0m in \u001b[0;36m__init__\u001b[0;34m(self, f, engine, **kwds)\u001b[0m\n\u001b[1;32m    893\u001b[0m             \u001b[0mself\u001b[0m\u001b[0;34m.\u001b[0m\u001b[0moptions\u001b[0m\u001b[0;34m[\u001b[0m\u001b[0;34m\"has_index_names\"\u001b[0m\u001b[0;34m]\u001b[0m \u001b[0;34m=\u001b[0m \u001b[0mkwds\u001b[0m\u001b[0;34m[\u001b[0m\u001b[0;34m\"has_index_names\"\u001b[0m\u001b[0;34m]\u001b[0m\u001b[0;34m\u001b[0m\u001b[0m\n\u001b[1;32m    894\u001b[0m \u001b[0;34m\u001b[0m\u001b[0m\n\u001b[0;32m--> 895\u001b[0;31m         \u001b[0mself\u001b[0m\u001b[0;34m.\u001b[0m\u001b[0m_make_engine\u001b[0m\u001b[0;34m(\u001b[0m\u001b[0mself\u001b[0m\u001b[0;34m.\u001b[0m\u001b[0mengine\u001b[0m\u001b[0;34m)\u001b[0m\u001b[0;34m\u001b[0m\u001b[0m\n\u001b[0m\u001b[1;32m    896\u001b[0m \u001b[0;34m\u001b[0m\u001b[0m\n\u001b[1;32m    897\u001b[0m     \u001b[0;32mdef\u001b[0m \u001b[0mclose\u001b[0m\u001b[0;34m(\u001b[0m\u001b[0mself\u001b[0m\u001b[0;34m)\u001b[0m\u001b[0;34m:\u001b[0m\u001b[0;34m\u001b[0m\u001b[0m\n",
      "\u001b[0;32m~/research/deep_learning_venv/lib/python3.7/site-packages/pandas/io/parsers.py\u001b[0m in \u001b[0;36m_make_engine\u001b[0;34m(self, engine)\u001b[0m\n\u001b[1;32m   1133\u001b[0m     \u001b[0;32mdef\u001b[0m \u001b[0m_make_engine\u001b[0m\u001b[0;34m(\u001b[0m\u001b[0mself\u001b[0m\u001b[0;34m,\u001b[0m \u001b[0mengine\u001b[0m\u001b[0;34m=\u001b[0m\u001b[0;34m\"c\"\u001b[0m\u001b[0;34m)\u001b[0m\u001b[0;34m:\u001b[0m\u001b[0;34m\u001b[0m\u001b[0m\n\u001b[1;32m   1134\u001b[0m         \u001b[0;32mif\u001b[0m \u001b[0mengine\u001b[0m \u001b[0;34m==\u001b[0m \u001b[0;34m\"c\"\u001b[0m\u001b[0;34m:\u001b[0m\u001b[0;34m\u001b[0m\u001b[0m\n\u001b[0;32m-> 1135\u001b[0;31m             \u001b[0mself\u001b[0m\u001b[0;34m.\u001b[0m\u001b[0m_engine\u001b[0m \u001b[0;34m=\u001b[0m \u001b[0mCParserWrapper\u001b[0m\u001b[0;34m(\u001b[0m\u001b[0mself\u001b[0m\u001b[0;34m.\u001b[0m\u001b[0mf\u001b[0m\u001b[0;34m,\u001b[0m \u001b[0;34m**\u001b[0m\u001b[0mself\u001b[0m\u001b[0;34m.\u001b[0m\u001b[0moptions\u001b[0m\u001b[0;34m)\u001b[0m\u001b[0;34m\u001b[0m\u001b[0m\n\u001b[0m\u001b[1;32m   1136\u001b[0m         \u001b[0;32melse\u001b[0m\u001b[0;34m:\u001b[0m\u001b[0;34m\u001b[0m\u001b[0m\n\u001b[1;32m   1137\u001b[0m             \u001b[0;32mif\u001b[0m \u001b[0mengine\u001b[0m \u001b[0;34m==\u001b[0m \u001b[0;34m\"python\"\u001b[0m\u001b[0;34m:\u001b[0m\u001b[0;34m\u001b[0m\u001b[0m\n",
      "\u001b[0;32m~/research/deep_learning_venv/lib/python3.7/site-packages/pandas/io/parsers.py\u001b[0m in \u001b[0;36m__init__\u001b[0;34m(self, src, **kwds)\u001b[0m\n\u001b[1;32m   1915\u001b[0m         \u001b[0mkwds\u001b[0m\u001b[0;34m[\u001b[0m\u001b[0;34m\"usecols\"\u001b[0m\u001b[0;34m]\u001b[0m \u001b[0;34m=\u001b[0m \u001b[0mself\u001b[0m\u001b[0;34m.\u001b[0m\u001b[0musecols\u001b[0m\u001b[0;34m\u001b[0m\u001b[0m\n\u001b[1;32m   1916\u001b[0m \u001b[0;34m\u001b[0m\u001b[0m\n\u001b[0;32m-> 1917\u001b[0;31m         \u001b[0mself\u001b[0m\u001b[0;34m.\u001b[0m\u001b[0m_reader\u001b[0m \u001b[0;34m=\u001b[0m \u001b[0mparsers\u001b[0m\u001b[0;34m.\u001b[0m\u001b[0mTextReader\u001b[0m\u001b[0;34m(\u001b[0m\u001b[0msrc\u001b[0m\u001b[0;34m,\u001b[0m \u001b[0;34m**\u001b[0m\u001b[0mkwds\u001b[0m\u001b[0;34m)\u001b[0m\u001b[0;34m\u001b[0m\u001b[0m\n\u001b[0m\u001b[1;32m   1918\u001b[0m         \u001b[0mself\u001b[0m\u001b[0;34m.\u001b[0m\u001b[0munnamed_cols\u001b[0m \u001b[0;34m=\u001b[0m \u001b[0mself\u001b[0m\u001b[0;34m.\u001b[0m\u001b[0m_reader\u001b[0m\u001b[0;34m.\u001b[0m\u001b[0munnamed_cols\u001b[0m\u001b[0;34m\u001b[0m\u001b[0m\n\u001b[1;32m   1919\u001b[0m \u001b[0;34m\u001b[0m\u001b[0m\n",
      "\u001b[0;32mpandas/_libs/parsers.pyx\u001b[0m in \u001b[0;36mpandas._libs.parsers.TextReader.__cinit__\u001b[0;34m()\u001b[0m\n",
      "\u001b[0;32mpandas/_libs/parsers.pyx\u001b[0m in \u001b[0;36mpandas._libs.parsers.TextReader._setup_parser_source\u001b[0;34m()\u001b[0m\n",
      "\u001b[0;31mFileNotFoundError\u001b[0m: [Errno 2] File b'/ssd_scratch/cvit/aryaman.g/affectnet/validation.csv' does not exist: b'/ssd_scratch/cvit/aryaman.g/affectnet/validation.csv'"
     ]
    }
   ],
   "source": [
    "import time\n",
    "t = time.time()\n",
    "train_loader = AffectNetDataset(path='validation.csv')\n",
    "print(time.time()-t)"
   ]
  },
  {
   "cell_type": "code",
   "execution_count": 5,
   "metadata": {},
   "outputs": [
    {
     "data": {
      "text/plain": [
       "3445"
      ]
     },
     "execution_count": 5,
     "metadata": {},
     "output_type": "execute_result"
    }
   ],
   "source": [
    "train_loader.__len__()"
   ]
  },
  {
   "cell_type": "code",
   "execution_count": 6,
   "metadata": {},
   "outputs": [
    {
     "name": "stdout",
     "output_type": "stream",
     "text": [
      "\u001b[1m\u001b[36mCK+\u001b[m\u001b[m/\r\n",
      "\u001b[1m\u001b[36mFEC_dataset\u001b[m\u001b[m/\r\n",
      "\u001b[1m\u001b[36maffectNet\u001b[m\u001b[m/\r\n",
      "\u001b[1m\u001b[36mcaffe-expression\u001b[m\u001b[m/\r\n",
      "\u001b[1m\u001b[36mchallenges-in-representation-learning-facial-expression-recognition-challenge\u001b[m\u001b[m/\r\n",
      "challenges-in-representation-learning-facial-expression-recognition-challenge.zip\r\n",
      "\u001b[1m\u001b[36mcohn_kanade\u001b[m\u001b[m/\r\n",
      "\u001b[1m\u001b[36mlfw\u001b[m\u001b[m/\r\n",
      "\u001b[1m\u001b[36mlfwcrop_color\u001b[m\u001b[m/\r\n",
      "\u001b[1m\u001b[36mvideo\u001b[m\u001b[m/\r\n"
     ]
    }
   ],
   "source": [
    "ls /Users/aryaman/research/FER_datasets/"
   ]
  },
  {
   "cell_type": "code",
   "execution_count": 1,
   "metadata": {},
   "outputs": [],
   "source": [
    "from dataset import CohnKanadeDataLoad"
   ]
  },
  {
   "cell_type": "code",
   "execution_count": 2,
   "metadata": {},
   "outputs": [
    {
     "name": "stdout",
     "output_type": "stream",
     "text": [
      "0\n",
      "total distinct sets:  118\n"
     ]
    },
    {
     "name": "stderr",
     "output_type": "stream",
     "text": [
      "/Users/aryaman/research/deep_learning_venv/lib/python3.7/site-packages/torch/nn/functional.py:2404: UserWarning: nn.functional.upsample is deprecated. Use nn.functional.interpolate instead.\n",
      "  warnings.warn(\"nn.functional.upsample is deprecated. Use nn.functional.interpolate instead.\")\n",
      "/Users/aryaman/research/all_code/simple_net_fer/dataset.py:79: RuntimeWarning: divide by zero encountered in true_divide\n",
      "  fused_img = (fused_img * 255 / np.max(fused_img)).astype('uint8')\n",
      "/Users/aryaman/research/all_code/simple_net_fer/dataset.py:79: RuntimeWarning: invalid value encountered in true_divide\n",
      "  fused_img = (fused_img * 255 / np.max(fused_img)).astype('uint8')\n"
     ]
    }
   ],
   "source": [
    "path_file = \"relevant_images_paths.txt\"\n",
    "import torchvision.transforms as transforms\n",
    "\n",
    "transform = transforms.Compose([\n",
    "                transforms.ToPILImage(),\n",
    "                transforms.ToTensor()\n",
    "            ])\n",
    "trainset = CohnKanadeDataLoad(path_file=path_file, train_flag=True, include_neutral=True, transform=transform)"
   ]
  },
  {
   "cell_type": "code",
   "execution_count": 3,
   "metadata": {},
   "outputs": [
    {
     "data": {
      "text/plain": [
       "1176"
      ]
     },
     "execution_count": 3,
     "metadata": {},
     "output_type": "execute_result"
    }
   ],
   "source": [
    "trainset.__len__()"
   ]
  },
  {
   "cell_type": "code",
   "execution_count": 1,
   "metadata": {},
   "outputs": [
    {
     "name": "stdout",
     "output_type": "stream",
     "text": [
      "using gpu:  False\n",
      "  + Number of params: 26518557\n",
      "loss  after  1  epoch:  1.954930067062378\n",
      "time take for epoch  1 :  3.909888982772827\n",
      "test accuracy after  1  epoch:  tensor(0.)\n",
      "-------------------------------------------------------------------\n",
      "\n",
      "\n",
      "loss  after  2  epoch:  1.684100866317749\n",
      "time take for epoch  2 :  3.9792211055755615\n",
      "test accuracy after  2  epoch:  tensor(30.)\n",
      "-------------------------------------------------------------------\n",
      "\n",
      "\n",
      "loss  after  3  epoch:  1.8558673858642578\n",
      "time take for epoch  3 :  3.849208116531372\n",
      "test accuracy after  3  epoch:  tensor(40.)\n",
      "-------------------------------------------------------------------\n",
      "\n",
      "\n",
      "loss  after  4  epoch:  2.2712807655334473\n",
      "time take for epoch  4 :  3.817262887954712\n",
      "test accuracy after  4  epoch:  tensor(10.)\n",
      "-------------------------------------------------------------------\n",
      "\n",
      "\n",
      "loss  after  5  epoch:  1.5828442573547363\n",
      "train accuracy after  5  epoch:  tensor(40.)\n",
      "time take for epoch  5 :  3.9438772201538086\n",
      "test accuracy after  5  epoch:  tensor(0.)\n",
      "-------------------------------------------------------------------\n",
      "\n",
      "\n",
      "loss  after  6  epoch:  1.7143501043319702\n",
      "time take for epoch  6 :  3.9558987617492676\n",
      "test accuracy after  6  epoch:  tensor(0.)\n",
      "-------------------------------------------------------------------\n",
      "\n",
      "\n",
      "loss  after  7  epoch:  1.6889379024505615\n",
      "time take for epoch  7 :  3.853325128555298\n",
      "test accuracy after  7  epoch:  tensor(0.)\n",
      "-------------------------------------------------------------------\n",
      "\n",
      "\n",
      "loss  after  8  epoch:  1.6811788082122803\n",
      "time take for epoch  8 :  3.8364720344543457\n",
      "test accuracy after  8  epoch:  tensor(0.)\n",
      "-------------------------------------------------------------------\n",
      "\n",
      "\n",
      "loss  after  9  epoch:  1.6043771505355835\n",
      "time take for epoch  9 :  3.8337574005126953\n",
      "test accuracy after  9  epoch:  tensor(0.)\n",
      "-------------------------------------------------------------------\n",
      "\n",
      "\n",
      "loss  after  10  epoch:  1.6433528661727905\n",
      "train accuracy after  10  epoch:  tensor(20.)\n",
      "time take for epoch  10 :  3.8565330505371094\n",
      "test accuracy after  10  epoch:  tensor(0.)\n",
      "-------------------------------------------------------------------\n",
      "\n",
      "\n",
      "loss  after  11  epoch:  1.590824842453003\n",
      "time take for epoch  11 :  4.055104970932007\n",
      "test accuracy after  11  epoch:  tensor(0.)\n",
      "-------------------------------------------------------------------\n",
      "\n",
      "\n",
      "loss  after  12  epoch:  1.369201898574829\n",
      "time take for epoch  12 :  3.969099760055542\n",
      "test accuracy after  12  epoch:  tensor(0.)\n",
      "-------------------------------------------------------------------\n",
      "\n",
      "\n",
      "loss  after  13  epoch:  1.1844929456710815\n",
      "time take for epoch  13 :  3.849142074584961\n",
      "test accuracy after  13  epoch:  tensor(30.)\n",
      "-------------------------------------------------------------------\n",
      "\n",
      "\n",
      "loss  after  14  epoch:  1.594001054763794\n",
      "time take for epoch  14 :  3.867871046066284\n",
      "test accuracy after  14  epoch:  tensor(30.)\n",
      "-------------------------------------------------------------------\n",
      "\n",
      "\n",
      "loss  after  15  epoch:  1.3518959283828735\n",
      "train accuracy after  15  epoch:  tensor(50.)\n",
      "time take for epoch  15 :  3.9581639766693115\n",
      "test accuracy after  15  epoch:  tensor(40.)\n",
      "-------------------------------------------------------------------\n",
      "\n",
      "\n",
      "loss  after  16  epoch:  1.4473769664764404\n",
      "time take for epoch  16 :  3.8508129119873047\n",
      "test accuracy after  16  epoch:  tensor(40.)\n",
      "-------------------------------------------------------------------\n",
      "\n",
      "\n",
      "loss  after  17  epoch:  1.3765308856964111\n",
      "time take for epoch  17 :  3.798089027404785\n",
      "test accuracy after  17  epoch:  tensor(40.)\n",
      "-------------------------------------------------------------------\n",
      "\n",
      "\n",
      "loss  after  18  epoch:  1.357591986656189\n",
      "time take for epoch  18 :  3.839893102645874\n",
      "test accuracy after  18  epoch:  tensor(40.)\n",
      "-------------------------------------------------------------------\n",
      "\n",
      "\n",
      "loss  after  19  epoch:  1.535942792892456\n",
      "time take for epoch  19 :  3.81693696975708\n",
      "test accuracy after  19  epoch:  tensor(40.)\n",
      "-------------------------------------------------------------------\n",
      "\n",
      "\n",
      "loss  after  20  epoch:  1.3365650177001953\n",
      "train accuracy after  20  epoch:  tensor(20.)\n",
      "time take for epoch  20 :  3.7984561920166016\n",
      "test accuracy after  20  epoch:  tensor(40.)\n",
      "-------------------------------------------------------------------\n",
      "\n",
      "\n",
      "loss  after  21  epoch:  1.3951904773712158\n",
      "time take for epoch  21 :  3.812558889389038\n",
      "test accuracy after  21  epoch:  tensor(40.)\n",
      "-------------------------------------------------------------------\n",
      "\n",
      "\n",
      "loss  after  22  epoch:  1.606035590171814\n",
      "time take for epoch  22 :  3.803428888320923\n",
      "test accuracy after  22  epoch:  tensor(40.)\n",
      "-------------------------------------------------------------------\n",
      "\n",
      "\n",
      "loss  after  23  epoch:  1.4573105573654175\n",
      "time take for epoch  23 :  3.80076003074646\n",
      "test accuracy after  23  epoch:  tensor(40.)\n",
      "-------------------------------------------------------------------\n",
      "\n",
      "\n",
      "loss  after  24  epoch:  1.3491075038909912\n",
      "time take for epoch  24 :  3.7903802394866943\n",
      "test accuracy after  24  epoch:  tensor(40.)\n",
      "-------------------------------------------------------------------\n",
      "\n",
      "\n",
      "loss  after  25  epoch:  1.421919822692871\n",
      "train accuracy after  25  epoch:  tensor(20.)\n",
      "time take for epoch  25 :  3.9584851264953613\n",
      "test accuracy after  25  epoch:  tensor(40.)\n",
      "-------------------------------------------------------------------\n",
      "\n",
      "\n",
      "loss  after  26  epoch:  1.4784878492355347\n",
      "time take for epoch  26 :  3.915361166000366\n",
      "test accuracy after  26  epoch:  tensor(30.)\n",
      "-------------------------------------------------------------------\n",
      "\n",
      "\n",
      "loss  after  27  epoch:  1.3349759578704834\n",
      "time take for epoch  27 :  3.9945499897003174\n",
      "test accuracy after  27  epoch:  tensor(30.)\n",
      "-------------------------------------------------------------------\n",
      "\n",
      "\n",
      "loss  after  28  epoch:  1.371335744857788\n",
      "time take for epoch  28 :  3.890413761138916\n",
      "test accuracy after  28  epoch:  tensor(30.)\n",
      "-------------------------------------------------------------------\n",
      "\n",
      "\n",
      "loss  after  29  epoch:  1.3180748224258423\n",
      "time take for epoch  29 :  3.810446262359619\n",
      "test accuracy after  29  epoch:  tensor(30.)\n",
      "-------------------------------------------------------------------\n",
      "\n",
      "\n",
      "loss  after  30  epoch:  1.0734140872955322\n",
      "train accuracy after  30  epoch:  tensor(50.)\n",
      "time take for epoch  30 :  3.8085832595825195\n",
      "test accuracy after  30  epoch:  tensor(30.)\n",
      "-------------------------------------------------------------------\n",
      "\n",
      "\n",
      "loss  after  31  epoch:  1.2467790842056274\n",
      "time take for epoch  31 :  3.8037779331207275\n",
      "test accuracy after  31  epoch:  tensor(30.)\n",
      "-------------------------------------------------------------------\n",
      "\n",
      "\n",
      "loss  after  32  epoch:  1.3582509756088257\n",
      "time take for epoch  32 :  3.7525432109832764\n",
      "test accuracy after  32  epoch:  tensor(30.)\n",
      "-------------------------------------------------------------------\n",
      "\n",
      "\n",
      "loss  after  33  epoch:  1.4806263446807861\n",
      "time take for epoch  33 :  3.799917221069336\n",
      "test accuracy after  33  epoch:  tensor(30.)\n",
      "-------------------------------------------------------------------\n",
      "\n",
      "\n",
      "loss  after  34  epoch:  1.3110337257385254\n",
      "time take for epoch  34 :  3.8187310695648193\n",
      "test accuracy after  34  epoch:  tensor(60.)\n",
      "-------------------------------------------------------------------\n",
      "\n",
      "\n",
      "loss  after  35  epoch:  1.3310506343841553\n",
      "train accuracy after  35  epoch:  tensor(30.)\n",
      "time take for epoch  35 :  3.8822879791259766\n",
      "test accuracy after  35  epoch:  tensor(40.)\n",
      "-------------------------------------------------------------------\n",
      "\n",
      "\n",
      "loss  after  36  epoch:  1.2745885848999023\n",
      "time take for epoch  36 :  3.792593002319336\n",
      "test accuracy after  36  epoch:  tensor(30.)\n",
      "-------------------------------------------------------------------\n",
      "\n",
      "\n",
      "loss  after  37  epoch:  1.2791085243225098\n",
      "time take for epoch  37 :  3.8461530208587646\n",
      "test accuracy after  37  epoch:  tensor(30.)\n",
      "-------------------------------------------------------------------\n",
      "\n",
      "\n",
      "loss  after  38  epoch:  1.3430898189544678\n",
      "time take for epoch  38 :  3.8100390434265137\n",
      "test accuracy after  38  epoch:  tensor(30.)\n",
      "-------------------------------------------------------------------\n",
      "\n",
      "\n",
      "loss  after  39  epoch:  1.3668673038482666\n",
      "time take for epoch  39 :  3.7746331691741943\n",
      "test accuracy after  39  epoch:  tensor(30.)\n",
      "-------------------------------------------------------------------\n",
      "\n",
      "\n"
     ]
    },
    {
     "name": "stdout",
     "output_type": "stream",
     "text": [
      "loss  after  40  epoch:  1.2390779256820679\n",
      "train accuracy after  40  epoch:  tensor(20.)\n",
      "time take for epoch  40 :  3.779813289642334\n",
      "test accuracy after  40  epoch:  tensor(30.)\n",
      "-------------------------------------------------------------------\n",
      "\n",
      "\n",
      "loss  after  41  epoch:  1.3749992847442627\n",
      "time take for epoch  41 :  3.7738988399505615\n",
      "test accuracy after  41  epoch:  tensor(30.)\n",
      "-------------------------------------------------------------------\n",
      "\n",
      "\n",
      "loss  after  42  epoch:  1.3017756938934326\n",
      "time take for epoch  42 :  3.785184144973755\n",
      "test accuracy after  42  epoch:  tensor(30.)\n",
      "-------------------------------------------------------------------\n",
      "\n",
      "\n",
      "loss  after  43  epoch:  1.2167389392852783\n",
      "time take for epoch  43 :  3.7720749378204346\n",
      "test accuracy after  43  epoch:  tensor(30.)\n",
      "-------------------------------------------------------------------\n",
      "\n",
      "\n",
      "loss  after  44  epoch:  1.3935340642929077\n",
      "time take for epoch  44 :  3.789712905883789\n",
      "test accuracy after  44  epoch:  tensor(30.)\n",
      "-------------------------------------------------------------------\n",
      "\n",
      "\n",
      "loss  after  45  epoch:  1.2594497203826904\n",
      "train accuracy after  45  epoch:  tensor(30.)\n",
      "time take for epoch  45 :  3.776387929916382\n",
      "test accuracy after  45  epoch:  tensor(30.)\n",
      "-------------------------------------------------------------------\n",
      "\n",
      "\n",
      "loss  after  46  epoch:  1.3382495641708374\n",
      "time take for epoch  46 :  3.7514662742614746\n",
      "test accuracy after  46  epoch:  tensor(40.)\n",
      "-------------------------------------------------------------------\n",
      "\n",
      "\n",
      "loss  after  47  epoch:  1.1550400257110596\n",
      "time take for epoch  47 :  3.7526469230651855\n",
      "test accuracy after  47  epoch:  tensor(60.)\n",
      "-------------------------------------------------------------------\n",
      "\n",
      "\n",
      "loss  after  48  epoch:  1.1422291994094849\n",
      "time take for epoch  48 :  3.762650966644287\n",
      "test accuracy after  48  epoch:  tensor(60.)\n",
      "-------------------------------------------------------------------\n",
      "\n",
      "\n",
      "loss  after  49  epoch:  1.2605479955673218\n",
      "time take for epoch  49 :  3.7984471321105957\n",
      "test accuracy after  49  epoch:  tensor(70.)\n",
      "-------------------------------------------------------------------\n",
      "\n",
      "\n",
      "loss  after  50  epoch:  1.166668176651001\n",
      "train accuracy after  50  epoch:  tensor(40.)\n",
      "time take for epoch  50 :  3.80945086479187\n",
      "test accuracy after  50  epoch:  tensor(70.)\n",
      "-------------------------------------------------------------------\n",
      "\n",
      "\n"
     ]
    }
   ],
   "source": [
    "run main.py"
   ]
  },
  {
   "cell_type": "code",
   "execution_count": 5,
   "metadata": {},
   "outputs": [],
   "source": [
    "from data_loader import *"
   ]
  },
  {
   "cell_type": "code",
   "execution_count": 8,
   "metadata": {},
   "outputs": [],
   "source": [
    "dataloader = create(name='ck+', batch_size=4, use_gpu=False, num_workers=4)"
   ]
  },
  {
   "cell_type": "code",
   "execution_count": 7,
   "metadata": {},
   "outputs": [
    {
     "data": {
      "text/plain": [
       "<torch.utils.data.dataloader._MultiProcessingDataLoaderIter at 0x123a1d7f0>"
      ]
     },
     "execution_count": 7,
     "metadata": {},
     "output_type": "execute_result"
    }
   ],
   "source": [
    "dataloader.testloader.__iter__()"
   ]
  },
  {
   "cell_type": "code",
   "execution_count": 8,
   "metadata": {},
   "outputs": [
    {
     "data": {
      "text/plain": [
       "7"
      ]
     },
     "execution_count": 8,
     "metadata": {},
     "output_type": "execute_result"
    }
   ],
   "source": [
    "dataloader.num_classes"
   ]
  },
  {
   "cell_type": "code",
   "execution_count": null,
   "metadata": {},
   "outputs": [],
   "source": []
  }
 ],
 "metadata": {
  "kernelspec": {
   "display_name": "deep_learning_venv",
   "language": "python",
   "name": "deep_learning_venv"
  },
  "language_info": {
   "codemirror_mode": {
    "name": "ipython",
    "version": 3
   },
   "file_extension": ".py",
   "mimetype": "text/x-python",
   "name": "python",
   "nbconvert_exporter": "python",
   "pygments_lexer": "ipython3",
   "version": "3.7.0"
  }
 },
 "nbformat": 4,
 "nbformat_minor": 2
}
