{
 "cells": [
  {
   "cell_type": "code",
   "execution_count": 1,
   "metadata": {},
   "outputs": [],
   "source": [
    "from dataset import SiameseGoogleFer"
   ]
  },
  {
   "cell_type": "code",
   "execution_count": 2,
   "metadata": {},
   "outputs": [
    {
     "name": "stdout",
     "output_type": "stream",
     "text": [
      "<Response [410]>\n",
      "<Response [404]>\n",
      "<Response [404]>\n",
      "<Response [404]>\n",
      "<Response [404]>\n",
      "<Response [410]>\n",
      "<Response [410]>\n",
      "<Response [410]>\n",
      "<Response [410]>\n",
      "<Response [410]>\n",
      "<Response [410]>\n",
      "<Response [410]>\n",
      "<Response [410]>\n",
      "<Response [410]>\n",
      "<Response [410]>\n",
      "<Response [410]>\n",
      "<Response [410]>\n",
      "<Response [410]>\n",
      "7.227867841720581\n"
     ]
    }
   ],
   "source": [
    "import time\n",
    "t = time.time()\n",
    "train_path = \"data/faceexp-comparison-data-train-public.csv\"\n",
    "test_path = \"data/faceexp-comparison-data-test-public.csv\"\n",
    "train_dataset = SiameseGoogleFer(train_path, train_flag=True)\n",
    "test_dataset = SiameseGoogleFer(test_path, train_flag=False)\n",
    "print(time.time()-t)"
   ]
  },
  {
   "cell_type": "code",
   "execution_count": 3,
   "metadata": {},
   "outputs": [
    {
     "name": "stdout",
     "output_type": "stream",
     "text": [
      "78\n"
     ]
    },
    {
     "data": {
      "text/plain": [
       "28"
      ]
     },
     "execution_count": 3,
     "metadata": {},
     "output_type": "execute_result"
    }
   ],
   "source": [
    "print(train_dataset.__len__())\n",
    "test_dataset.__len__()"
   ]
  },
  {
   "cell_type": "code",
   "execution_count": 2,
   "metadata": {},
   "outputs": [],
   "source": [
    "from dataset import *\n",
    "from train import *"
   ]
  },
  {
   "cell_type": "code",
   "execution_count": 1,
   "metadata": {},
   "outputs": [
    {
     "name": "stdout",
     "output_type": "stream",
     "text": [
      "<Response [410]>\n",
      "<Response [404]>\n",
      "<Response [404]>\n",
      "<Response [404]>\n",
      "<Response [404]>\n",
      "<Response [410]>\n",
      "<Response [410]>\n",
      "<Response [410]>\n",
      "<Response [410]>\n",
      "<Response [410]>\n",
      "<Response [410]>\n",
      "<Response [410]>\n",
      "<Response [410]>\n",
      "<Response [410]>\n",
      "<Response [410]>\n",
      "<Response [410]>\n",
      "<Response [410]>\n",
      "<Response [410]>\n",
      "  + Number of params: 27918535\n",
      "loss  after  1  epoch:  1.2140666842460632\n",
      "test accuracy after  1  epoch:  32.142857142857146\n",
      "loss  after  2  epoch:  1.2078590989112854\n",
      "test accuracy after  2  epoch:  17.857142857142858\n",
      "loss  after  3  epoch:  1.1995083391666412\n",
      "test accuracy after  3  epoch:  28.571428571428573\n",
      "loss  after  4  epoch:  1.1935640573501587\n",
      "test accuracy after  4  epoch:  28.571428571428573\n",
      "loss  after  5  epoch:  1.1982175707817078\n",
      "train accuracy after  5  epoch:  41.02564102564103\n",
      "test accuracy after  5  epoch:  25.0\n",
      "loss  after  6  epoch:  1.1820744574069977\n",
      "test accuracy after  6  epoch:  21.428571428571427\n",
      "loss  after  7  epoch:  1.1691647469997406\n",
      "test accuracy after  7  epoch:  28.571428571428573\n",
      "loss  after  8  epoch:  1.1717377007007599\n",
      "test accuracy after  8  epoch:  21.428571428571427\n",
      "loss  after  9  epoch:  1.169679194688797\n",
      "test accuracy after  9  epoch:  21.428571428571427\n",
      "loss  after  10  epoch:  1.1757802665233612\n",
      "train accuracy after  10  epoch:  51.282051282051285\n",
      "test accuracy after  10  epoch:  32.142857142857146\n"
     ]
    }
   ],
   "source": [
    "run train_and_test.py --epochs=10"
   ]
  },
  {
   "cell_type": "code",
   "execution_count": 3,
   "metadata": {},
   "outputs": [
    {
     "ename": "NameError",
     "evalue": "name 'acc' is not defined",
     "output_type": "error",
     "traceback": [
      "\u001b[0;31m---------------------------------------------------------------------------\u001b[0m",
      "\u001b[0;31mNameError\u001b[0m                                 Traceback (most recent call last)",
      "\u001b[0;32m<ipython-input-3-0a304da0f193>\u001b[0m in \u001b[0;36m<module>\u001b[0;34m\u001b[0m\n\u001b[0;32m----> 1\u001b[0;31m \u001b[0macc\u001b[0m\u001b[0;34m\u001b[0m\u001b[0m\n\u001b[0m",
      "\u001b[0;31mNameError\u001b[0m: name 'acc' is not defined"
     ]
    }
   ],
   "source": [
    "acc"
   ]
  },
  {
   "cell_type": "code",
   "execution_count": 11,
   "metadata": {},
   "outputs": [],
   "source": [
    "from facenet_pytorch import MTCNN, InceptionResnetV1\n",
    "resnet = InceptionResnetV1(pretrained='vggface2')"
   ]
  },
  {
   "cell_type": "code",
   "execution_count": 7,
   "metadata": {},
   "outputs": [
    {
     "name": "stdout",
     "output_type": "stream",
     "text": [
      "<Response [410]>\n",
      "<Response [404]>\n",
      "<Response [404]>\n",
      "<Response [404]>\n",
      "<Response [404]>\n",
      "<Response [410]>\n",
      "<Response [410]>\n",
      "<Response [410]>\n",
      "<Response [410]>\n",
      "<Response [410]>\n",
      "<Response [410]>\n",
      "<Response [410]>\n",
      "<Response [410]>\n",
      "<Response [410]>\n",
      "<Response [410]>\n",
      "<Response [410]>\n",
      "<Response [410]>\n",
      "<Response [410]>\n"
     ]
    }
   ],
   "source": [
    "from torchvision import transforms\n",
    "import torch\n",
    "kwargs = {'num_workers': 1, 'pin_memory': True} if False else {}\n",
    "batch_size=4\n",
    "transform = transforms.Compose([\n",
    "                           transforms.ToTensor(),\n",
    "                           transforms.Normalize((0.1307,), (0.3081,))\n",
    "                       ])\n",
    "train_path = \"data/faceexp-comparison-data-train-public.csv\"\n",
    "test_path = \"data/faceexp-comparison-data-test-public.csv\"\n",
    "train_dataset = SiameseGoogleFer(train_path, train_flag=True, transform=transform)\n",
    "test_dataset = SiameseGoogleFer(test_path, train_flag=False, transform=transform)\n",
    "train_loader = torch.utils.data.DataLoader(train_dataset, batch_size=batch_size, shuffle=True, **kwargs)\n",
    "test_loader = torch.utils.data.DataLoader(test_dataset, batch_size=batch_size, shuffle=False, **kwargs)"
   ]
  },
  {
   "cell_type": "code",
   "execution_count": 12,
   "metadata": {},
   "outputs": [],
   "source": [
    "from tripletnet import FECNet, EmbeddNet\n",
    "model = EmbeddNet()\n",
    "tnet = FECNet(model)\n",
    "for batch_idx, (data1, data2, data3) in enumerate(train_loader):\n",
    "    data1, data2, data3 = Variable(data1), Variable(data2), Variable(data3)\n",
    "    dista, distb, distc, embedded_x, embedded_y, embedded_z = tnet(data1, data2, data3)\n",
    "    "
   ]
  },
  {
   "cell_type": "code",
   "execution_count": 14,
   "metadata": {},
   "outputs": [
    {
     "data": {
      "text/plain": [
       "tensor([[-0.0119,  0.0215,  0.0509, -0.0129, -0.0075, -0.0220,  0.0671, -0.0386,\n",
       "          0.0093, -0.0005, -0.0224,  0.0014, -0.0047, -0.0448, -0.0154, -0.0338],\n",
       "        [ 0.0093,  0.0433,  0.0337, -0.0034,  0.0161, -0.0100,  0.0040,  0.0010,\n",
       "          0.0424, -0.0313, -0.0732, -0.0305, -0.0524, -0.0471, -0.0571, -0.0421],\n",
       "        [ 0.0280,  0.0102,  0.0265,  0.0034, -0.0402,  0.0233, -0.0097,  0.0020,\n",
       "         -0.0412, -0.0133, -0.0102, -0.0455, -0.0431, -0.0025, -0.0458, -0.0441],\n",
       "        [ 0.0355,  0.0185, -0.0030, -0.0201,  0.0118,  0.0008, -0.0089, -0.0357,\n",
       "         -0.0539, -0.0302, -0.0295, -0.0163, -0.0457, -0.0379, -0.0565, -0.0340]],\n",
       "       grad_fn=<AddmmBackward>)"
      ]
     },
     "execution_count": 14,
     "metadata": {},
     "output_type": "execute_result"
    }
   ],
   "source": [
    "embedded_x"
   ]
  },
  {
   "cell_type": "code",
   "execution_count": 23,
   "metadata": {},
   "outputs": [],
   "source": [
    "from losses import TripletLoss"
   ]
  },
  {
   "cell_type": "code",
   "execution_count": 25,
   "metadata": {},
   "outputs": [],
   "source": [
    "criterion = TripletLoss(margin=0.2)"
   ]
  },
  {
   "cell_type": "code",
   "execution_count": 27,
   "metadata": {},
   "outputs": [
    {
     "data": {
      "text/plain": [
       "tensor(0.2055, grad_fn=<MeanBackward0>)"
      ]
     },
     "execution_count": 27,
     "metadata": {},
     "output_type": "execute_result"
    }
   ],
   "source": [
    "criterion(embedded_x, embedded_y, embedded_z)"
   ]
  },
  {
   "cell_type": "code",
   "execution_count": 44,
   "metadata": {},
   "outputs": [],
   "source": [
    "import numpy\n",
    "def triplet_accuracy(dista, distb, distc):\n",
    "    return numpy.logical_and(dista < distb, dista < distc).sum()"
   ]
  },
  {
   "cell_type": "code",
   "execution_count": 45,
   "metadata": {},
   "outputs": [
    {
     "data": {
      "text/plain": [
       "2"
      ]
     },
     "execution_count": 45,
     "metadata": {},
     "output_type": "execute_result"
    }
   ],
   "source": [
    "triplet_accuracy(dista.detach().numpy(), distb.detach().numpy(), distc.detach().numpy())"
   ]
  },
  {
   "cell_type": "code",
   "execution_count": 32,
   "metadata": {},
   "outputs": [
    {
     "data": {
      "text/plain": [
       "tensor([0.1345, 0.1593, 0.1257, 0.1172], grad_fn=<NormBackward1>)"
      ]
     },
     "execution_count": 32,
     "metadata": {},
     "output_type": "execute_result"
    }
   ],
   "source": [
    "dista"
   ]
  },
  {
   "cell_type": "code",
   "execution_count": 46,
   "metadata": {},
   "outputs": [
    {
     "data": {
      "text/plain": [
       "tensor([0.0899, 0.0826, 0.1411, 0.1278], grad_fn=<NormBackward1>)"
      ]
     },
     "execution_count": 46,
     "metadata": {},
     "output_type": "execute_result"
    }
   ],
   "source": [
    "distb"
   ]
  },
  {
   "cell_type": "code",
   "execution_count": 47,
   "metadata": {},
   "outputs": [
    {
     "data": {
      "text/plain": [
       "tensor([0.1061, 0.1316, 0.1354, 0.1413], grad_fn=<NormBackward1>)"
      ]
     },
     "execution_count": 47,
     "metadata": {},
     "output_type": "execute_result"
    }
   ],
   "source": [
    "distc"
   ]
  },
  {
   "cell_type": "code",
   "execution_count": 51,
   "metadata": {},
   "outputs": [],
   "source": [
    "cnt = 0\n",
    "for parama in tnet.parameters():\n",
    "    cnt = cnt+1"
   ]
  },
  {
   "cell_type": "code",
   "execution_count": 52,
   "metadata": {},
   "outputs": [
    {
     "data": {
      "text/plain": [
       "382"
      ]
     },
     "execution_count": 52,
     "metadata": {},
     "output_type": "execute_result"
    }
   ],
   "source": [
    "cnt"
   ]
  },
  {
   "cell_type": "code",
   "execution_count": 54,
   "metadata": {},
   "outputs": [],
   "source": [
    "tnet.embeddingnet.resnet.requires_grad = False"
   ]
  },
  {
   "cell_type": "code",
   "execution_count": null,
   "metadata": {},
   "outputs": [],
   "source": []
  }
 ],
 "metadata": {
  "kernelspec": {
   "display_name": "deep_learning_venv",
   "language": "python",
   "name": "deep_learning_venv"
  },
  "language_info": {
   "codemirror_mode": {
    "name": "ipython",
    "version": 3
   },
   "file_extension": ".py",
   "mimetype": "text/x-python",
   "name": "python",
   "nbconvert_exporter": "python",
   "pygments_lexer": "ipython3",
   "version": "3.7.0"
  }
 },
 "nbformat": 4,
 "nbformat_minor": 2
}
